{
 "cells": [
  {
   "cell_type": "raw",
   "metadata": {},
   "source": [
    "# DHDMeetUp 2019.11.13 ŁDŹ"
   ]
  },
  {
   "cell_type": "markdown",
   "metadata": {},
   "source": [
    "# DHDMeetUp 2019.11.13 ŁDŹ"
   ]
  },
  {
   "cell_type": "raw",
   "metadata": {},
   "source": [
    "#### `TORNADO` Piotr Liberadzki, Łukasz Biernacki"
   ]
  },
  {
   "cell_type": "markdown",
   "metadata": {},
   "source": [
    "#### `TORNADO` Piotr Liberadzki, Łukasz Biernacki"
   ]
  },
  {
   "cell_type": "raw",
   "metadata": {},
   "source": [
    "![logo_tornado](images/logo_tornado.png) "
   ]
  },
  {
   "cell_type": "markdown",
   "metadata": {},
   "source": [
    "\n",
    "![logo_tornado](images/logo_tornado.png) \n",
    "\n",
    "\n",
    "\n",
    "\n"
   ]
  },
  {
   "cell_type": "raw",
   "metadata": {},
   "source": [
    "### Jupyter - analiza i wizualizacja danych w notatniku"
   ]
  },
  {
   "cell_type": "markdown",
   "metadata": {},
   "source": [
    "### Jupyter - analiza i wizualizacja danych w notatniku"
   ]
  },
  {
   "cell_type": "raw",
   "metadata": {},
   "source": [
    " (\\\\(\\Ju(lia)\\), \\\\(\\Py(thon)\\), \\\\(e)\\(\\R\\\\))"
   ]
  },
  {
   "cell_type": "markdown",
   "metadata": {},
   "source": [
    " (\\\\(\\Ju(lia)\\), \\\\(\\Py(thon)\\), \\\\(e)\\(\\R\\\\))"
   ]
  },
  {
   "cell_type": "raw",
   "metadata": {},
   "source": [
    "- głównie Python wraz z bibliotekami NumPy i SciPy,\n",
    "- R,\n",
    "- Julia,\n",
    "\n",
    "ale również inne:\n",
    "\n",
    "- JavaScript,\n",
    "- Java,\n",
    "- Scala,\n",
    "- Go,\n",
    "- C#,\n",
    "- Ruby,\n",
    "- Kotlin,\n",
    "- Haskell."
   ]
  },
  {
   "cell_type": "markdown",
   "metadata": {},
   "source": [
    "- głównie Python wraz z bibliotekami NumPy i SciPy,\n",
    "- R,\n",
    "- Julia,\n",
    "\n",
    "ale również inne:\n",
    "\n",
    "- JavaScript,\n",
    "- Java,\n",
    "- Scala,\n",
    "- Go,\n",
    "- C#,\n",
    "- Ruby,\n",
    "- Kotlin,\n",
    "- Haskell."
   ]
  },
  {
   "cell_type": "raw",
   "metadata": {},
   "source": [
    "$$e^x=\\sum_{i=0}^\\infty \\frac{1}{i!}x^i$$"
   ]
  },
  {
   "cell_type": "markdown",
   "metadata": {},
   "source": [
    "$$e^x=\\sum_{i=0}^\\infty \\frac{1}{i!}x^i$$"
   ]
  },
  {
   "cell_type": "raw",
   "metadata": {},
   "source": [
    "| Fun                  | With                 | Tables          |\n",
    "| :------------------- | -------------------: |:---------------:|\n",
    "| left-aligned column  | right-aligned column | centered column |\n",
    "| $100                 | $100                 | $100            |\n",
    "| $10                  | $10                  | $10             |\n",
    "| $1                   | $1                   | $1              |"
   ]
  },
  {
   "cell_type": "markdown",
   "metadata": {},
   "source": [
    "| Fun                  | With                 | Tables          |\n",
    "| :------------------- | -------------------: |:---------------:|\n",
    "| left-aligned column  | right-aligned column | centered column |\n",
    "| $100                 | $100                 | $100            |\n",
    "| $10                  | $10                  | $10             |\n",
    "| $1                   | $1                   | $1              |"
   ]
  }
 ],
 "metadata": {
  "kernelspec": {
   "display_name": "Python 3",
   "language": "python",
   "name": "python3"
  },
  "language_info": {
   "codemirror_mode": {
    "name": "ipython",
    "version": 3
   },
   "file_extension": ".py",
   "mimetype": "text/x-python",
   "name": "python",
   "nbconvert_exporter": "python",
   "pygments_lexer": "ipython3",
   "version": "3.7.3"
  }
 },
 "nbformat": 4,
 "nbformat_minor": 4
}
